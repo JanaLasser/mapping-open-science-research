{
 "cells": [
  {
   "cell_type": "markdown",
   "id": "central-batman",
   "metadata": {},
   "source": [
    "# Crosstabs"
   ]
  },
  {
   "cell_type": "code",
   "execution_count": 2,
   "id": "disciplinary-marshall",
   "metadata": {},
   "outputs": [],
   "source": [
    "import pandas as pd\n",
    "from os.path import join"
   ]
  },
  {
   "cell_type": "code",
   "execution_count": 5,
   "id": "according-right",
   "metadata": {},
   "outputs": [],
   "source": [
    "src = '../data'\n",
    "dst = '../tables'\n",
    "fname = 'mapOSR_data_V5_9_3_220419_coded_clean.csv'\n",
    "data = pd.read_csv(join(src, fname))"
   ]
  },
  {
   "cell_type": "code",
   "execution_count": 28,
   "id": "latest-liberal",
   "metadata": {},
   "outputs": [],
   "source": [
    "\n",
    "cols = ['Action', 'Method', 'Discipline', 'Group', 'Geo']\n",
    "\n",
    "for i, col1 in enumerate(cols):\n",
    "    col1_entries = [c for c in data.columns if c.startswith(col1 + '_')]\n",
    "    for col2 in cols[i+1:]:\n",
    "        \n",
    "        col2_entries = [c for c in data.columns if c.startswith(col2 + '_')]\n",
    "\n",
    "        df = pd.DataFrame(columns=[c.split('_')[1] for c in col1_entries])\n",
    "        df[col2] = [c.split('_')[1] for c in col2_entries]\n",
    "        df.index = df[col2]\n",
    "        df = df.drop(columns=[col2])\n",
    "\n",
    "        for col1_entry in col1_entries:\n",
    "            for col2_entry in col2_entries:\n",
    "                N = len(data[(data[col1_entry] == 1) & (data[col2_entry] == 1)])\n",
    "                df.loc[col2_entry.split('_')[1], col1_entry.split('_')[1]] = N\n",
    "\n",
    "        df.to_csv(join(dst, '{}_x_{}_abs.csv'.format(col1, col2)))\n",
    "        df = df / df.values.sum() * 100\n",
    "        df.to_csv(join(dst, '{}_x_{}_perc.csv'.format(col1, col2)))"
   ]
  }
 ],
 "metadata": {
  "kernelspec": {
   "display_name": "Python 3 (ipykernel)",
   "language": "python",
   "name": "python3"
  },
  "language_info": {
   "codemirror_mode": {
    "name": "ipython",
    "version": 3
   },
   "file_extension": ".py",
   "mimetype": "text/x-python",
   "name": "python",
   "nbconvert_exporter": "python",
   "pygments_lexer": "ipython3",
   "version": "3.8.5"
  }
 },
 "nbformat": 4,
 "nbformat_minor": 5
}
